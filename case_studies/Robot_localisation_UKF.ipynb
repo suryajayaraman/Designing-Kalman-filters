{
 "cells": [
  {
   "cell_type": "code",
   "execution_count": 2,
   "id": "b47f4307",
   "metadata": {},
   "outputs": [],
   "source": [
    "import numpy as np\n",
    "import matplotlib.pyplot as plt\n",
    "from math import tan, sin, cos, sqrt, atan2\n",
    "from numpy.random import randn\n",
    "\n",
    "from filterpy.stats import plot_covariance_ellipse\n",
    "from filterpy.kalman import UnscentedKalmanFilter as UKF\n",
    "from filterpy.kalman import unscented_transform, MerweScaledSigmaPoints"
   ]
  },
  {
   "cell_type": "code",
   "execution_count": 3,
   "id": "cef55282",
   "metadata": {},
   "outputs": [],
   "source": [
    "def move(x, dt, u, wheelbase):\n",
    "    hdg = x[2]\n",
    "    vel = u[0]\n",
    "    steering_angle = u[1]\n",
    "    dist = vel * dt\n",
    "\n",
    "    if abs(steering_angle) > 0.001: # is robot turning?\n",
    "        beta = (dist / wheelbase) * tan(steering_angle)\n",
    "        r = wheelbase / tan(steering_angle) # radius\n",
    "\n",
    "        sinh, sinhb = sin(hdg), sin(hdg + beta)\n",
    "        cosh, coshb = cos(hdg), cos(hdg + beta)\n",
    "        return x + np.array([-r*sinh + r*sinhb, \n",
    "                              r*cosh - r*coshb, beta])\n",
    "    else: # moving in straight line\n",
    "        return x + np.array([dist*cos(hdg), dist*sin(hdg), 0])"
   ]
  },
  {
   "cell_type": "code",
   "execution_count": 4,
   "id": "9b94a73d",
   "metadata": {},
   "outputs": [],
   "source": [
    "def normalize_angle(x):\n",
    "    x = x % (2 * np.pi)    # force in range [0, 2 pi)\n",
    "    if x > np.pi:          # move to [-pi, pi)\n",
    "        x -= 2 * np.pi\n",
    "    return x"
   ]
  },
  {
   "cell_type": "code",
   "execution_count": 5,
   "id": "dafa1e8d",
   "metadata": {},
   "outputs": [],
   "source": [
    "def residual_h(a, b):\n",
    "    y = a - b\n",
    "    # data in format [dist_1, bearing_1, dist_2, bearing_2,...]\n",
    "    for i in range(0, len(y), 2):\n",
    "        y[i + 1] = normalize_angle(y[i + 1])\n",
    "    return y\n",
    "\n",
    "def residual_x(a, b):\n",
    "    y = a - b\n",
    "    y[2] = normalize_angle(y[2])\n",
    "    return y"
   ]
  },
  {
   "cell_type": "code",
   "execution_count": 6,
   "id": "ec2ffc3f",
   "metadata": {},
   "outputs": [],
   "source": [
    "def Hx(x, landmarks):\n",
    "    \"\"\" takes a state variable and returns the measurement\n",
    "    that would correspond to that state. \"\"\"\n",
    "    hx = []\n",
    "    for lmark in landmarks:\n",
    "        px, py = lmark\n",
    "        dist = sqrt((px - x[0])**2 + (py - x[1])**2)\n",
    "        angle = atan2(py - x[1], px - x[0])\n",
    "        hx.extend([dist, normalize_angle(angle - x[2])])\n",
    "    return np.array(hx)"
   ]
  },
  {
   "cell_type": "code",
   "execution_count": 7,
   "id": "93c6ac09",
   "metadata": {},
   "outputs": [],
   "source": [
    "def state_mean(sigmas, Wm):\n",
    "    x = np.zeros(3)\n",
    "\n",
    "    sum_sin = np.sum(np.dot(np.sin(sigmas[:, 2]), Wm))\n",
    "    sum_cos = np.sum(np.dot(np.cos(sigmas[:, 2]), Wm))\n",
    "    x[0] = np.sum(np.dot(sigmas[:, 0], Wm))\n",
    "    x[1] = np.sum(np.dot(sigmas[:, 1], Wm))\n",
    "    x[2] = atan2(sum_sin, sum_cos)\n",
    "    return x\n",
    "\n",
    "def z_mean(sigmas, Wm):\n",
    "    z_count = sigmas.shape[1]\n",
    "    x = np.zeros(z_count)\n",
    "\n",
    "    for z in range(0, z_count, 2):\n",
    "        sum_sin = np.sum(np.dot(np.sin(sigmas[:, z+1]), Wm))\n",
    "        sum_cos = np.sum(np.dot(np.cos(sigmas[:, z+1]), Wm))\n",
    "\n",
    "        x[z] = np.sum(np.dot(sigmas[:,z], Wm))\n",
    "        x[z+1] = atan2(sum_sin, sum_cos)\n",
    "    return x"
   ]
  },
  {
   "cell_type": "code",
   "execution_count": 8,
   "id": "77cefedc",
   "metadata": {},
   "outputs": [],
   "source": [
    "dt = 1.0\n",
    "wheelbase = 0.5"
   ]
  },
  {
   "cell_type": "code",
   "execution_count": 9,
   "id": "2c9ad125",
   "metadata": {},
   "outputs": [],
   "source": [
    "def run_localization(\n",
    "    cmds, landmarks, sigma_vel, sigma_steer, sigma_range, \n",
    "    sigma_bearing, ellipse_step=1, step=10):\n",
    "\n",
    "    plt.figure()\n",
    "    points = MerweScaledSigmaPoints(n=3, alpha=.00001, beta=2, kappa=0, \n",
    "                                    subtract=residual_x)\n",
    "    ukf = UKF(dim_x=3, dim_z=2*len(landmarks), fx=move, hx=Hx,\n",
    "              dt=dt, points=points, x_mean_fn=state_mean, \n",
    "              z_mean_fn=z_mean, residual_x=residual_x, \n",
    "              residual_z=residual_h)\n",
    "\n",
    "    ukf.x = np.array([2, 6, .3])\n",
    "    ukf.P = np.diag([.1, .1, .05])\n",
    "    ukf.R = np.diag([sigma_range**2, \n",
    "                     sigma_bearing**2]*len(landmarks))\n",
    "    ukf.Q = np.eye(3)*0.0001\n",
    "    \n",
    "    sim_pos = ukf.x.copy()\n",
    "    \n",
    "    # plot landmarks\n",
    "    if len(landmarks) > 0:\n",
    "        plt.scatter(landmarks[:, 0], landmarks[:, 1], \n",
    "                    marker='s', s=60)\n",
    "    \n",
    "    track = []\n",
    "    for i, u in enumerate(cmds):     \n",
    "        sim_pos = move(sim_pos, dt/step, u, wheelbase)\n",
    "        track.append(sim_pos)\n",
    "\n",
    "        if i % step == 0:\n",
    "            ukf.predict(u=u, wheelbase=wheelbase)\n",
    "\n",
    "            if i % ellipse_step == 0:\n",
    "                plot_covariance_ellipse(\n",
    "                    (ukf.x[0], ukf.x[1]), ukf.P[0:2, 0:2], std=6,\n",
    "                     facecolor='k', alpha=0.3)\n",
    "\n",
    "            x, y = sim_pos[0], sim_pos[1]\n",
    "            z = []\n",
    "            for lmark in landmarks:\n",
    "                dx, dy = lmark[0] - x, lmark[1] - y\n",
    "                d = sqrt(dx**2 + dy**2) + randn()*sigma_range\n",
    "                bearing = atan2(lmark[1] - y, lmark[0] - x)\n",
    "                a = (normalize_angle(bearing - sim_pos[2] + \n",
    "                     randn()*sigma_bearing))\n",
    "                z.extend([d, a])            \n",
    "            ukf.update(z, landmarks=landmarks)\n",
    "\n",
    "            if i % ellipse_step == 0:\n",
    "                plot_covariance_ellipse(\n",
    "                    (ukf.x[0], ukf.x[1]), ukf.P[0:2, 0:2], std=6,\n",
    "                     facecolor='g', alpha=0.8)\n",
    "    track = np.array(track)\n",
    "    plt.plot(track[:, 0], track[:,1], color='k', lw=2)\n",
    "    plt.axis('equal')\n",
    "    plt.title(\"UKF Robot localization\")\n",
    "    plt.show()\n",
    "    return ukf"
   ]
  },
  {
   "cell_type": "code",
   "execution_count": 10,
   "id": "97a1ca57",
   "metadata": {},
   "outputs": [
    {
     "data": {
      "image/png": "[encoded data removed]",
      "text/plain": [
       "<Figure size 432x288 with 1 Axes>"
      ]
     },
     "metadata": {
      "needs_background": "light"
     },
     "output_type": "display_data"
    },
    {
     "name": "stdout",
     "output_type": "stream",
     "text": [
      "Final P: [0.00931969 0.0186914  0.00070343]\n"
     ]
    }
   ],
   "source": [
    "landmarks = np.array([[5, 10], [10, 5], [15, 15]])\n",
    "cmds = [np.array([1.1, .01])] * 200\n",
    "ukf = run_localization(\n",
    "    cmds, landmarks, sigma_vel=0.1, sigma_steer=np.radians(1),\n",
    "    sigma_range=0.3, sigma_bearing=0.1)\n",
    "print('Final P:', ukf.P.diagonal())"
   ]
  }
 ],
 "metadata": {
  "kernelspec": {
   "display_name": "Python(filterpy)",
   "language": "python",
   "name": "filterpy"
  },
  "language_info": {
   "codemirror_mode": {
    "name": "ipython",
    "version": 3
   },
   "file_extension": ".py",
   "mimetype": "text/x-python",
   "name": "python",
   "nbconvert_exporter": "python",
   "pygments_lexer": "ipython3",
   "version": "3.7.0"
  }
 },
 "nbformat": 4,
 "nbformat_minor": 5
}
